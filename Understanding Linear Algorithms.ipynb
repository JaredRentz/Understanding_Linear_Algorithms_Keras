{
 "cells": [
  {
   "cell_type": "markdown",
   "metadata": {},
   "source": [
    "# Linear Algorithms Using Keras \n",
    "### by Jared Rentz\n",
    "##  Import all models and libraries"
   ]
  },
  {
   "cell_type": "code",
   "execution_count": 7,
   "metadata": {},
   "outputs": [],
   "source": [
    "from keras.models import Sequential\n",
    "from keras.layers import Dense, Activation\n",
    "from keras.optimizers import Adam, SGD\n",
    "import pandas as pd"
   ]
  },
  {
   "cell_type": "markdown",
   "metadata": {},
   "source": [
    "## Setting up Keras Sequential Model\n",
    "We will be using a Sequential model with only 1 output and 1 input.\\\n",
    "The input will be \"X\" and the output (value to predict) will be \"y_true\"\\\n",
    "Keras uses 4 parts in creating a model.\\\n",
    "1.) Create the object of Sequential() by calling it and placing it in the model variable.\\\n",
    "2.) Call the method of the \"model\" object called \"add\". It allows you to add to the initial object.\\\n",
    "    The layer that we will use in this model is called Dense which is just a \"connected network\".\\\n",
    "    It takes something in from the one layer and passes it to the next layer.\\\n",
    "    (The first \"1\" in the Dense method below is how many items you want it to pass to the next layer)\n",
    "    (input_shape is always placed on the first layer of a model to tell the object how many features to expect)"
   ]
  },
  {
   "cell_type": "code",
   "execution_count": 2,
   "metadata": {},
   "outputs": [
    {
     "name": "stderr",
     "output_type": "stream",
     "text": [
      "WARNING: Logging before flag parsing goes to stderr.\n",
      "W0820 15:30:13.063533 32612 deprecation_wrapper.py:119] From C:\\Users\\jared.rentz\\AppData\\Local\\Continuum\\anaconda3\\lib\\site-packages\\keras\\backend\\tensorflow_backend.py:74: The name tf.get_default_graph is deprecated. Please use tf.compat.v1.get_default_graph instead.\n",
      "\n",
      "W0820 15:30:13.110250 32612 deprecation_wrapper.py:119] From C:\\Users\\jared.rentz\\AppData\\Local\\Continuum\\anaconda3\\lib\\site-packages\\keras\\backend\\tensorflow_backend.py:517: The name tf.placeholder is deprecated. Please use tf.compat.v1.placeholder instead.\n",
      "\n",
      "W0820 15:30:13.119813 32612 deprecation_wrapper.py:119] From C:\\Users\\jared.rentz\\AppData\\Local\\Continuum\\anaconda3\\lib\\site-packages\\keras\\backend\\tensorflow_backend.py:4138: The name tf.random_uniform is deprecated. Please use tf.random.uniform instead.\n",
      "\n"
     ]
    },
    {
     "name": "stdout",
     "output_type": "stream",
     "text": [
      "_________________________________________________________________\n",
      "Layer (type)                 Output Shape              Param #   \n",
      "=================================================================\n",
      "dense_1 (Dense)              (None, 1)                 2         \n",
      "=================================================================\n",
      "Total params: 2\n",
      "Trainable params: 2\n",
      "Non-trainable params: 0\n",
      "_________________________________________________________________\n"
     ]
    }
   ],
   "source": [
    "model = Sequential()\n",
    "model.add(Dense(1, input_shape=(1,)))\n",
    "model.summary()"
   ]
  },
  {
   "cell_type": "code",
   "execution_count": 16,
   "metadata": {},
   "outputs": [
    {
     "data": {
      "text/html": [
       "<div>\n",
       "<style scoped>\n",
       "    .dataframe tbody tr th:only-of-type {\n",
       "        vertical-align: middle;\n",
       "    }\n",
       "\n",
       "    .dataframe tbody tr th {\n",
       "        vertical-align: top;\n",
       "    }\n",
       "\n",
       "    .dataframe thead th {\n",
       "        text-align: right;\n",
       "    }\n",
       "</style>\n",
       "<table border=\"1\" class=\"dataframe\">\n",
       "  <thead>\n",
       "    <tr style=\"text-align: right;\">\n",
       "      <th></th>\n",
       "      <th>Gender</th>\n",
       "      <th>Height</th>\n",
       "      <th>Weight</th>\n",
       "    </tr>\n",
       "  </thead>\n",
       "  <tbody>\n",
       "    <tr>\n",
       "      <th>0</th>\n",
       "      <td>Male</td>\n",
       "      <td>73.847017</td>\n",
       "      <td>241.893563</td>\n",
       "    </tr>\n",
       "    <tr>\n",
       "      <th>1</th>\n",
       "      <td>Male</td>\n",
       "      <td>68.781904</td>\n",
       "      <td>162.310473</td>\n",
       "    </tr>\n",
       "    <tr>\n",
       "      <th>2</th>\n",
       "      <td>Male</td>\n",
       "      <td>74.110105</td>\n",
       "      <td>212.740856</td>\n",
       "    </tr>\n",
       "    <tr>\n",
       "      <th>3</th>\n",
       "      <td>Male</td>\n",
       "      <td>71.730978</td>\n",
       "      <td>220.042470</td>\n",
       "    </tr>\n",
       "    <tr>\n",
       "      <th>4</th>\n",
       "      <td>Male</td>\n",
       "      <td>69.881796</td>\n",
       "      <td>206.349801</td>\n",
       "    </tr>\n",
       "  </tbody>\n",
       "</table>\n",
       "</div>"
      ],
      "text/plain": [
       "  Gender     Height      Weight\n",
       "0   Male  73.847017  241.893563\n",
       "1   Male  68.781904  162.310473\n",
       "2   Male  74.110105  212.740856\n",
       "3   Male  71.730978  220.042470\n",
       "4   Male  69.881796  206.349801"
      ]
     },
     "execution_count": 16,
     "metadata": {},
     "output_type": "execute_result"
    }
   ],
   "source": [
    "df = pd.read_csv('../data/weight-height.csv')\n",
    "df.head()"
   ]
  },
  {
   "cell_type": "markdown",
   "metadata": {},
   "source": [
    "3.) We compile the method so we can prepare it to learn.\\\n",
    "    Here we use \"Adam\" as our bias optimizer and our cost function/loss is 'mean_squared_error'\\\n",
    "    Which is just SUM((Predicted y - Actual y)^2)\n",
    "    \n",
    "## Bias function and the Cost Function"
   ]
  },
  {
   "cell_type": "code",
   "execution_count": 5,
   "metadata": {},
   "outputs": [],
   "source": [
    "model.compile(Adam(lr=0.8), loss='mean_squared_error')"
   ]
  },
  {
   "cell_type": "markdown",
   "metadata": {},
   "source": [
    "4.) Last thing we need to do is fit our model. Which is actually the training part.\\\n",
    "    We are taking the model, assinging weights and biasis to each node which we called above\\\n",
    "    You will see we take in the \"X\" as 1 of the features we want to predict but it can be more in your model\\\n",
    "    y_true which is the actual corresponding value observed in the data.\\\n",
    "    \n",
    "    Epochs = The number of times you want the model to try and decrease the loss and learn the best weights"
   ]
  },
  {
   "cell_type": "code",
   "execution_count": 9,
   "metadata": {},
   "outputs": [
    {
     "name": "stdout",
     "output_type": "stream",
     "text": [
      "Epoch 1/40\n",
      "10000/10000 [==============================] - 0s 28us/step - loss: 577.7139\n",
      "Epoch 2/40\n",
      "10000/10000 [==============================] - 0s 26us/step - loss: 538.2249\n",
      "Epoch 3/40\n",
      "10000/10000 [==============================] - 0s 28us/step - loss: 500.8703\n",
      "Epoch 4/40\n",
      "10000/10000 [==============================] - 0s 27us/step - loss: 470.0351\n",
      "Epoch 5/40\n",
      "10000/10000 [==============================] - 0s 32us/step - loss: 426.1872\n",
      "Epoch 6/40\n",
      "10000/10000 [==============================] - 0s 34us/step - loss: 390.1494\n",
      "Epoch 7/40\n",
      "10000/10000 [==============================] - 0s 32us/step - loss: 374.1070\n",
      "Epoch 8/40\n",
      "10000/10000 [==============================] - 0s 34us/step - loss: 308.0546\n",
      "Epoch 9/40\n",
      "10000/10000 [==============================] - 0s 48us/step - loss: 292.4117\n",
      "Epoch 10/40\n",
      "10000/10000 [==============================] - 1s 63us/step - loss: 274.8133\n",
      "Epoch 11/40\n",
      "10000/10000 [==============================] - 0s 39us/step - loss: 249.5439\n",
      "Epoch 12/40\n",
      "10000/10000 [==============================] - 0s 37us/step - loss: 243.2280\n",
      "Epoch 13/40\n",
      "10000/10000 [==============================] - 0s 36us/step - loss: 236.0787\n",
      "Epoch 14/40\n",
      "10000/10000 [==============================] - 0s 36us/step - loss: 220.0070\n",
      "Epoch 15/40\n",
      "10000/10000 [==============================] - 0s 38us/step - loss: 199.9145\n",
      "Epoch 16/40\n",
      "10000/10000 [==============================] - 0s 36us/step - loss: 200.7335\n",
      "Epoch 17/40\n",
      "10000/10000 [==============================] - 0s 36us/step - loss: 197.6936\n",
      "Epoch 18/40\n",
      "10000/10000 [==============================] - 0s 43us/step - loss: 178.6067\n",
      "Epoch 19/40\n",
      "10000/10000 [==============================] - 0s 42us/step - loss: 197.5066\n",
      "Epoch 20/40\n",
      "10000/10000 [==============================] - 0s 39us/step - loss: 179.5440\n",
      "Epoch 21/40\n",
      "10000/10000 [==============================] - 0s 38us/step - loss: 175.1107\n",
      "Epoch 22/40\n",
      "10000/10000 [==============================] - 0s 36us/step - loss: 175.9904\n",
      "Epoch 23/40\n",
      "10000/10000 [==============================] - 0s 38us/step - loss: 184.9503\n",
      "Epoch 24/40\n",
      "10000/10000 [==============================] - 0s 40us/step - loss: 170.4510\n",
      "Epoch 25/40\n",
      "10000/10000 [==============================] - 0s 38us/step - loss: 177.4015\n",
      "Epoch 26/40\n",
      "10000/10000 [==============================] - 0s 41us/step - loss: 177.8042\n",
      "Epoch 27/40\n",
      "10000/10000 [==============================] - 1s 101us/step - loss: 190.2286\n",
      "Epoch 28/40\n",
      "10000/10000 [==============================] - 0s 47us/step - loss: 180.7978\n",
      "Epoch 29/40\n",
      "10000/10000 [==============================] - 1s 89us/step - loss: 168.9537\n",
      "Epoch 30/40\n",
      "10000/10000 [==============================] - 2s 164us/step - loss: 183.3685\n",
      "Epoch 31/40\n",
      "10000/10000 [==============================] - 2s 172us/step - loss: 190.5940\n",
      "Epoch 32/40\n",
      "10000/10000 [==============================] - 2s 166us/step - loss: 183.4007\n",
      "Epoch 33/40\n",
      "10000/10000 [==============================] - 0s 45us/step - loss: 168.6721\n",
      "Epoch 34/40\n",
      "10000/10000 [==============================] - 0s 46us/step - loss: 195.8253\n",
      "Epoch 35/40\n",
      "10000/10000 [==============================] - 0s 44us/step - loss: 170.1945\n",
      "Epoch 36/40\n",
      "10000/10000 [==============================] - 0s 35us/step - loss: 181.8020\n",
      "Epoch 37/40\n",
      "10000/10000 [==============================] - 0s 36us/step - loss: 170.7447\n",
      "Epoch 38/40\n",
      "10000/10000 [==============================] - 0s 35us/step - loss: 181.9118\n",
      "Epoch 39/40\n",
      "10000/10000 [==============================] - 0s 42us/step - loss: 173.1343\n",
      "Epoch 40/40\n",
      "10000/10000 [==============================] - 0s 39us/step - loss: 177.4176\n"
     ]
    },
    {
     "data": {
      "text/plain": [
       "<keras.callbacks.History at 0x211e13b8ef0>"
      ]
     },
     "execution_count": 9,
     "metadata": {},
     "output_type": "execute_result"
    }
   ],
   "source": [
    "X = df.Height\n",
    "y_true = df.Weight\n",
    "model.fit(X,y_true, epochs=40)"
   ]
  },
  {
   "cell_type": "code",
   "execution_count": 12,
   "metadata": {},
   "outputs": [
    {
     "data": {
      "text/plain": [
       "[<matplotlib.lines.Line2D at 0x211e3cb23c8>]"
      ]
     },
     "execution_count": 12,
     "metadata": {},
     "output_type": "execute_result"
    },
    {
     "data": {
      "image/png": "[encoded data removed]",
      "text/plain": [
       "<Figure size 432x288 with 1 Axes>"
      ]
     },
     "metadata": {
      "needs_background": "light"
     },
     "output_type": "display_data"
    }
   ],
   "source": [
    "y_pred = model.predict(X)\n",
    "import matplotlib.pyplot as plt\n",
    "df.plot(kind='scatter',\n",
    "       x = 'Height',\n",
    "       y = 'Weight',\n",
    "       title= 'Male and Femail')\n",
    "plt.plot(X,y_pred, color='Red')"
   ]
  },
  {
   "cell_type": "markdown",
   "metadata": {},
   "source": [
    "## Getting the weights of your Linear Formula\n",
    "Our linear formula is y-hat = Bias + (X*Weight)\\\n",
    "X = will be the value of the actual data point we are looking at.\\\n",
    "W = weight that or slope of that X-value (data point)\\\n",
    "B = Bias (aka y-intercept for the function of a line ie.. y=mx + b)"
   ]
  },
  {
   "cell_type": "code",
   "execution_count": 13,
   "metadata": {},
   "outputs": [],
   "source": [
    "W, B = model.get_weights()"
   ]
  },
  {
   "cell_type": "code",
   "execution_count": 14,
   "metadata": {},
   "outputs": [
    {
     "data": {
      "text/plain": [
       "array([[7.6902714]], dtype=float32)"
      ]
     },
     "execution_count": 14,
     "metadata": {},
     "output_type": "execute_result"
    }
   ],
   "source": [
    "W"
   ]
  },
  {
   "cell_type": "code",
   "execution_count": 15,
   "metadata": {},
   "outputs": [
    {
     "data": {
      "text/plain": [
       "array([-348.29297], dtype=float32)"
      ]
     },
     "execution_count": 15,
     "metadata": {},
     "output_type": "execute_result"
    }
   ],
   "source": [
    "B "
   ]
  }
 ],
 "metadata": {
  "kernelspec": {
   "display_name": "Python 3",
   "language": "python",
   "name": "python3"
  },
  "language_info": {
   "codemirror_mode": {
    "name": "ipython",
    "version": 3
   },
   "file_extension": ".py",
   "mimetype": "text/x-python",
   "name": "python",
   "nbconvert_exporter": "python",
   "pygments_lexer": "ipython3",
   "version": "3.7.3"
  }
 },
 "nbformat": 4,
 "nbformat_minor": 2
}
